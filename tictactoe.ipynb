{
 "cells": [
  {
   "cell_type": "code",
   "execution_count": 1,
   "metadata": {},
   "outputs": [],
   "source": [
    "from IPython.display import clear_output\n",
    "\n",
    "def display_board(board):\n",
    "    clear_output()\n",
    "    print(board[1]+' | '+board[2]+' | '+board[3])\n",
    "    print('''\"\"_\"\"\"_\"\"''')\n",
    "    print(board[4]+' | '+board[5]+' | '+board[6])\n",
    "    print('''\"\"_\"\"\"_\"\"''')\n",
    "    print(board[7]+' | '+board[8]+' | '+board[9])"
   ]
  },
  {
   "cell_type": "code",
   "execution_count": 2,
   "metadata": {},
   "outputs": [],
   "source": [
    "def player_input():\n",
    "    marker = ''\n",
    "    while marker!='X' and marker!='O':\n",
    "        marker = input('Player choose X or O: ').upper()\n",
    "        \n",
    "    if marker == 'X':\n",
    "        return('X','O')\n",
    "    else:\n",
    "        return('O','X')"
   ]
  },
  {
   "cell_type": "code",
   "execution_count": 5,
   "metadata": {},
   "outputs": [],
   "source": [
    "def place_marker(board,marker,position):\n",
    "    board[position]=marker\n",
    "    \n",
    "def win_check(board,mark):\n",
    "    return((board[1] ==board[2]==board[3]==mark) or\n",
    "        (board[4]==board[5]==board[6]==mark) or\n",
    "        (board[7]==board[8]==board[9]==mark) or\n",
    "        (board[1]==board[4]==board[7]==mark) or# check for columns\n",
    "        (board[2]==board[5]==board[8]==mark) or\n",
    "        (board[3]==board[6]==board[9]==mark) or \n",
    "        (board[1]==board[5]==board[9]==mark) or# diagonal check\n",
    "        (board[3]==board[5]==board[7]==mark))\n",
    "\n",
    "\n",
    "import random as ran\n",
    "\n",
    "def choose_first():\n",
    "    flip=ran.randint(0,1)\n",
    "    if flip == 0:\n",
    "        return 'Player_1'\n",
    "    else:\n",
    "        return 'Player_2'\n",
    "        \n",
    "def space_check(board,position):\n",
    "    return board[position]== ' '\n",
    "\n",
    "def full_board_check(board):\n",
    "    if ' ' in board[1:]:\n",
    "        return False\n",
    "    else:\n",
    "        return True\n",
    "\n",
    "def player_choice(board):\n",
    "    position = 0 \n",
    "    while position not in [1,2,3,4,5,6,7,8,9] or not space_check(board,position):\n",
    "        position = int(input('Choose a position from 1-9: '))\n",
    "    return position\n",
    "def replay():\n",
    "    choice = input('Play again? Enter Yes or No: ').lower()\n",
    "    return 'yes' in choice"
   ]
  },
  {
   "cell_type": "code",
   "execution_count": 4,
   "metadata": {},
   "outputs": [
    {
     "name": "stdout",
     "output_type": "stream",
     "text": [
      "O | X |  \n",
      "\"\"_\"\"\"_\"\"\n",
      "X | O |  \n",
      "\"\"_\"\"\"_\"\"\n",
      "  |   | O\n",
      "Player 2 has won\n",
      "Play again? Enter Yes or No: No\n"
     ]
    }
   ],
   "source": [
    "print(\"WELCOME to Tic Tac Toe python CL version\")\n",
    "\n",
    "while True:\n",
    "    the_board = [' ']*10\n",
    "    player1_marker, player2_marker = player_input()\n",
    "    turn=choose_first()\n",
    "    print(turn+' will go first')\n",
    "    game_on = True\n",
    "    while game_on:\n",
    "        if turn == 'Player_1':\n",
    "            display_board(the_board)\n",
    "            position = player_choice(the_board)\n",
    "            place_marker(the_board,player1_marker,position)\n",
    "            if win_check(the_board,player1_marker):\n",
    "                display_board(the_board)\n",
    "                print ('Player 1 has won')\n",
    "                game_on = False\n",
    "            else:\n",
    "                if full_board_check(the_board):\n",
    "                    display_board(the_board)\n",
    "                    print('TIE Game!')\n",
    "                    game_on = False\n",
    "                else:\n",
    "                    turn = 'Player_2'\n",
    "        else:\n",
    "            display_board(the_board)\n",
    "            position = player_choice(the_board)\n",
    "            place_marker(the_board,player2_marker,position)\n",
    "            if win_check(the_board,player2_marker):\n",
    "                display_board(the_board)\n",
    "                print ('Player 2 has won')\n",
    "                game_on = False\n",
    "            else:\n",
    "                if full_board_check(the_board):\n",
    "                    display_board(the_board)\n",
    "                    print('TIE Game!')\n",
    "                    game_on = False\n",
    "                else:\n",
    "                    turn = 'Player_1'\n",
    "                    \n",
    "    if not replay():\n",
    "        break"
   ]
  }
 ],
 "metadata": {
  "kernelspec": {
   "display_name": "Python 3",
   "language": "python",
   "name": "python3"
  },
  "language_info": {
   "codemirror_mode": {
    "name": "ipython",
    "version": 3
   },
   "file_extension": ".py",
   "mimetype": "text/x-python",
   "name": "python",
   "nbconvert_exporter": "python",
   "pygments_lexer": "ipython3",
   "version": "3.8.5"
  }
 },
 "nbformat": 4,
 "nbformat_minor": 4
}
