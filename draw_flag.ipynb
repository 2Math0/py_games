{
 "cells": [
  {
   "cell_type": "code",
   "execution_count": 1,
   "metadata": {},
   "outputs": [],
   "source": [
    "from turtle import *\n",
    "# Draw a star\n",
    "colormode(255)\n",
    "def rectangle_shape(colorFill, angle, order):\n",
    "    side_count = 0\n",
    "    angle = angle\n",
    "    begin_fill()\n",
    "    while side_count < 4:\n",
    "        pixels = 200 if side_count%2==0 else 90\n",
    "\n",
    "        if side_count == 0:\n",
    "            pass\n",
    "        else:\n",
    "            angle = 270 if order%2==0 else 90\n",
    "        side_count += 1\n",
    "        color(colorFill)\n",
    "        left(angle)\n",
    "        forward(pixels)\n",
    "    end_fill()\n",
    "\n",
    "rectangle_shape((0, 87, 184), 0, 1)\n",
    "# reset_turtle_mouse()\n",
    "rectangle_shape((254, 221, 0), 90, 2)\n",
    "# reset_turtle_mouse()\n",
    "done()"
   ]
  },
  {
   "cell_type": "markdown",
   "metadata": {},
   "source": [
    "<img src='images/ukraine.png '/>"
   ]
  }
 ],
 "metadata": {
  "kernelspec": {
   "display_name": "Python 3.10.4 64-bit",
   "language": "python",
   "name": "python3"
  },
  "language_info": {
   "codemirror_mode": {
    "name": "ipython",
    "version": 3
   },
   "file_extension": ".py",
   "mimetype": "text/x-python",
   "name": "python",
   "nbconvert_exporter": "python",
   "pygments_lexer": "ipython3",
   "version": "3.10.4"
  },
  "orig_nbformat": 4,
  "vscode": {
   "interpreter": {
    "hash": "916dbcbb3f70747c44a77c7bcd40155683ae19c65e1c03b4aa3499c5328201f1"
   }
  }
 },
 "nbformat": 4,
 "nbformat_minor": 2
}
